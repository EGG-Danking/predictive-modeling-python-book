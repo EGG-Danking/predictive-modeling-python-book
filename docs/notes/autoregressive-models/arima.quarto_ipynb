{
  "cells": [
    {
      "cell_type": "markdown",
      "metadata": {},
      "source": [
        "# Auto-Regressive Models\n"
      ],
      "id": "9dbcaa28"
    },
    {
      "cell_type": "code",
      "metadata": {},
      "source": [
        "#| echo: false\n",
        "\n",
        "import warnings\n",
        "#warnings.simplefilter(action='ignore', category=FutureWarning)\n",
        "\n",
        "from statsmodels.tools.sm_exceptions import ValueWarning\n",
        "warnings.simplefilter(action='ignore', category=ValueWarning)\n",
        "\n",
        "from pandas import set_option\n",
        "set_option('display.max_rows', 6)"
      ],
      "id": "f8462c20",
      "execution_count": null,
      "outputs": []
    },
    {
      "cell_type": "markdown",
      "metadata": {},
      "source": [
        "**Auto-Regressive Integrated Moving Average (ARIMA)** is a \"method for forecasting or predicting future outcomes based on a historical time series. It is based on the statistical concept of serial correlation, where past data points influence future data points.\" - [Source: Investopedia](https://www.investopedia.com/terms/a/autoregressive-integrated-moving-average-arima.asp)\n",
        "\n",
        "An ARIMA model has three key components:\n",
        "\n",
        "  + **Auto-Regressive (AR)** part: involves regressing the current value of the series against its past values (lags). The idea is that past observations have an influence on the current value.\n",
        "\n",
        "  + **Integrated (I)** part: refers to the differencing of observations to make the time series stationary (i.e. to remove trends or seasonality). A stationary time series has constant mean and variance over time.\n",
        "\n",
        "  + **Moving Average (MA)** part: involves modeling the relationship between the current value of the series and past forecast errors (residuals). The model adjusts the forecast based on the error terms from previous periods.\n",
        "\n",
        "\n",
        "In practice, ARIMA models may be better at short term forecasting, and may not perform as well in forecasting over the long term.\n",
        "\n",
        "## Assumption of Stationarity\n",
        "\n",
        ":::{.callout-warning title=\"Assumption of stationarity\"}\n",
        "Remember, ARMA models require data to be [stationary](./stationarity.qmd). The mean and variance and autocorrelation should remain fairly constant over time.\n",
        "\n",
        "For instance, while stock *prices* are generally non-stationary, ARIMA models can still be used by transforming the data to achieve stationarity. This is done through differencing, which is the \"Integrated\" (I) component of ARIMA. Stock *returns* (or the percentage change from the previous period) are typically more stationary and suitable for modeling.\n",
        ":::\n",
        "\n",
        "\n",
        "## Examples\n",
        "\n",
        ":::{.callout-note title=\"Data Source\"}\n",
        "These examples of autoregressive models are based on material by Prof. Ram Yamarthy.\n",
        ":::\n",
        "\n",
        "\n",
        "### Example 1: Baseball Team Performance\n",
        "\n",
        "#### Data Loading\n",
        "\n",
        "Let's consider this previous dataset of baseball team performance, which we learned exemplified some positive [autocorrelation](./autocorrelation.qmd#example-2-autocorrelation-of-baseball-team-performance) after two lagging periods:\n"
      ],
      "id": "ac528aae"
    },
    {
      "cell_type": "code",
      "metadata": {},
      "source": [
        "#| code-fold: true\n",
        "\n",
        "from pandas import read_excel, DataFrame, to_datetime\n",
        "\n",
        "repo_url = f\"https://github.com/prof-rossetti/python-for-finance\"\n",
        "file_url = f\"{repo_url}/raw/refs/heads/main/docs/data/baseball_data.xlsx\"\n",
        "\n",
        "df = read_excel(file_url, sheet_name=\"ny_yankees\")\n",
        "\n",
        "df.index = to_datetime(df[\"Year\"], format=\"%Y\")\n",
        "df.drop(columns=[\"Year\"], inplace=True)\n",
        "df"
      ],
      "id": "c369cf95",
      "execution_count": null,
      "outputs": []
    },
    {
      "cell_type": "markdown",
      "metadata": {},
      "source": [
        "#### Data Exploration\n",
        "\n",
        "Sorting data:\n"
      ],
      "id": "07591496"
    },
    {
      "cell_type": "code",
      "metadata": {},
      "source": [
        "df.sort_values(by=\"Year\", ascending=True, inplace=True)\n",
        "\n",
        "y = df[\"W-L%\"]\n",
        "print(y.shape)"
      ],
      "id": "6af55365",
      "execution_count": null,
      "outputs": []
    },
    {
      "cell_type": "markdown",
      "metadata": {},
      "source": [
        "Plotting the time series data:\n"
      ],
      "id": "c489115d"
    },
    {
      "cell_type": "code",
      "metadata": {},
      "source": [
        "import plotly.express as px\n",
        "\n",
        "px.line(x=y.index, y=y, height=450,\n",
        "    title=\"Baseball Team (NYY) Annual Win Percentages\",\n",
        "    labels={\"x\": \"Team\", \"y\": \"Win Percentage\"},\n",
        ")"
      ],
      "id": "439d207c",
      "execution_count": null,
      "outputs": []
    },
    {
      "cell_type": "code",
      "metadata": {},
      "source": [
        "#import plotly.express as px\n",
        "#\n",
        "#px.line(df, y=\"W-L%\", height=450,\n",
        "#    title=\"Baseball Team (NYY) Annual Win Percentages\",\n",
        "#    labels={\"value\": \"Win Percentage\", \"variable\": \"Team\"},\n",
        "#)"
      ],
      "id": "ccf4702b",
      "execution_count": null,
      "outputs": []
    },
    {
      "cell_type": "markdown",
      "metadata": {},
      "source": [
        "##### Stationarity\n",
        "\n",
        "Check for stationarity:\n"
      ],
      "id": "e841b929"
    },
    {
      "cell_type": "code",
      "metadata": {},
      "source": [
        "from statsmodels.tsa.stattools import adfuller\n",
        "\n",
        "# Perform the Augmented Dickey-Fuller test for stationarity\n",
        "result = adfuller(y)\n",
        "print(f'ADF Statistic: {result[0]}')\n",
        "print(f'P-value: {result[1]}')\n",
        "\n",
        "# If p-value > 0.05, the series is not stationary, and differencing is required"
      ],
      "id": "2875edd3",
      "execution_count": null,
      "outputs": []
    },
    {
      "cell_type": "markdown",
      "metadata": {},
      "source": [
        "##### Autocorrelation\n",
        "\n",
        "\n",
        "Examining autocorrelation over ten lagging periods:\n"
      ],
      "id": "52a1f641"
    },
    {
      "cell_type": "code",
      "metadata": {},
      "source": [
        "from statsmodels.tsa.stattools import acf\n",
        "\n",
        "n_lags = 10\n",
        "acf_results = acf(y, nlags=n_lags, fft=True, missing=\"drop\")\n",
        "print(acf_results)"
      ],
      "id": "ffe6ea26",
      "execution_count": null,
      "outputs": []
    },
    {
      "cell_type": "markdown",
      "metadata": {},
      "source": [
        "Plotting the autocorrelation results:\n"
      ],
      "id": "fd423f1f"
    },
    {
      "cell_type": "code",
      "metadata": {},
      "source": [
        "import plotly.express as px\n",
        "\n",
        "fig = px.line(y=acf_results, markers=[\"o\"], height=400,\n",
        "        title=f\"Auto-correlation of Annual Baseball Performance (NYY)\",\n",
        "        labels={\"x\": \"Number of Lags\", \"y\":\"Auto-correlation\"},\n",
        ")\n",
        "fig.show()"
      ],
      "id": "b9821f19",
      "execution_count": null,
      "outputs": []
    },
    {
      "cell_type": "markdown",
      "metadata": {},
      "source": [
        "We see moderately high autocorrelation persists until two to four lagging periods.\n",
        "\n",
        "#### Train/Test Split\n"
      ],
      "id": "bef8ca9f"
    },
    {
      "cell_type": "code",
      "metadata": {},
      "source": [
        "#test_size = 0.2\n",
        "#cutoff = round(len(y) * (1 - test_size))\n",
        "#y_train = y.iloc[:cutoff] # all before cutoff\n",
        "#y_test = y.iloc[cutoff:] # all after cutoff\n",
        "#\n",
        "#print(\"Y TRAIN:\", y_train.shape)\n",
        "#print(\"Y TEST:\", y_test.shape)"
      ],
      "id": "e9c47912",
      "execution_count": null,
      "outputs": []
    },
    {
      "cell_type": "code",
      "metadata": {},
      "source": [
        "def sequential_split(y, test_size=0.2):\n",
        "    cutoff = round(len(y) * (1 - test_size))\n",
        "    y_train = y.iloc[:cutoff] # all before cutoff\n",
        "    y_test = y.iloc[cutoff:] # all after cutoff\n",
        "    return y_train, y_test"
      ],
      "id": "8e0a0f91",
      "execution_count": null,
      "outputs": []
    },
    {
      "cell_type": "code",
      "metadata": {},
      "source": [
        "y_train, y_test = sequential_split(y, test_size=0.1)\n",
        "print(\"Y TRAIN:\", y_train.shape)\n",
        "print(\"Y TEST:\", y_test.shape)"
      ],
      "id": "9b2ec39a",
      "execution_count": null,
      "outputs": []
    },
    {
      "cell_type": "markdown",
      "metadata": {},
      "source": [
        "#### Model Training\n",
        "\n",
        "To implement autoregressive moving average model in Python, we can use the [`ARIMA` class](https://www.statsmodels.org/dev/generated/statsmodels.tsa.arima.model.ARIMA.html) from `statsmodels`.\n"
      ],
      "id": "24070571"
    },
    {
      "cell_type": "code",
      "metadata": {},
      "source": [
        "from statsmodels.tsa.arima.model import ARIMA\n",
        "\n",
        "n_periods = 2 # based on earlier autocorrelation analysis\n",
        "model = ARIMA(y_train, order=(n_periods, 0, 0))\n",
        "print(type(model))\n",
        "\n",
        "results = model.fit()\n",
        "print(type(results))\n",
        "\n",
        "print(results.summary())"
      ],
      "id": "5a6ea789",
      "execution_count": null,
      "outputs": []
    },
    {
      "cell_type": "markdown",
      "metadata": {},
      "source": [
        "Reconstruct training set with predictions:\n"
      ],
      "id": "c7d75447"
    },
    {
      "cell_type": "code",
      "metadata": {},
      "source": [
        "#train_set = df.loc[y_train.index].copy()\n",
        "train_set = y_train.copy().to_frame()\n",
        "train_set[\"Predicted\"] = results.fittedvalues\n",
        "train_set[\"Error\"] = results.resid\n",
        "train_set"
      ],
      "id": "06b7c30b",
      "execution_count": null,
      "outputs": []
    },
    {
      "cell_type": "markdown",
      "metadata": {},
      "source": [
        "Training metrics:\n"
      ],
      "id": "52cbf938"
    },
    {
      "cell_type": "code",
      "metadata": {},
      "source": [
        "from sklearn.metrics import r2_score\n",
        "\n",
        "r2_score(train_set[\"W-L%\"], train_set[\"Predicted\"])"
      ],
      "id": "a4934c75",
      "execution_count": null,
      "outputs": []
    },
    {
      "cell_type": "markdown",
      "metadata": {},
      "source": [
        "Plotting predictions during the training period:\n"
      ],
      "id": "20a3b55a"
    },
    {
      "cell_type": "code",
      "metadata": {},
      "source": [
        "px.line(train_set, y=[\"W-L%\", \"Predicted\"], height=350,\n",
        "    title=\"Baseball Team (NYY) Performance vs ARMA Predictions (Training Set)\",\n",
        "    labels={\"value\":\"\"}\n",
        ")"
      ],
      "id": "4da4190c",
      "execution_count": null,
      "outputs": []
    },
    {
      "cell_type": "markdown",
      "metadata": {},
      "source": [
        "#### Evaluation\n",
        "\n",
        "Reconstructing test set with predictions for the test period:\n"
      ],
      "id": "6ad69590"
    },
    {
      "cell_type": "code",
      "metadata": {},
      "source": [
        "start = y_test.index[0]\n",
        "end = y_test.index[-1]\n",
        "start, end"
      ],
      "id": "ee4841e9",
      "execution_count": null,
      "outputs": []
    },
    {
      "cell_type": "code",
      "metadata": {},
      "source": [
        "y_pred = results.predict(start=start, end=end)\n",
        "print(y_pred.shape)"
      ],
      "id": "7f489cc9",
      "execution_count": null,
      "outputs": []
    },
    {
      "cell_type": "code",
      "metadata": {},
      "source": [
        "test_set = y_test.copy().to_frame()\n",
        "test_set[\"Predicted\"] = y_pred\n",
        "test_set[\"Error\"] = test_set[\"Predicted\"] - test_set[\"W-L%\"]\n",
        "test_set.head()"
      ],
      "id": "7cb0ec64",
      "execution_count": null,
      "outputs": []
    },
    {
      "cell_type": "markdown",
      "metadata": {},
      "source": [
        "Testing metrics:\n"
      ],
      "id": "8e05d7c9"
    },
    {
      "cell_type": "code",
      "metadata": {},
      "source": [
        "r2_score(test_set[\"W-L%\"], test_set[\"Predicted\"])"
      ],
      "id": "83dce086",
      "execution_count": null,
      "outputs": []
    },
    {
      "cell_type": "markdown",
      "metadata": {},
      "source": [
        "Not so good.\n"
      ],
      "id": "5c088e9a"
    },
    {
      "cell_type": "code",
      "metadata": {},
      "source": [
        "#px.line(test_set, y=[\"W-L%\", \"Predicted\"], height=350,\n",
        "#    title=\"Baseball Team (NYY) Performance vs ARMA Predictions (Test Set)\",\n",
        "#    labels={\"value\":\"\"}\n",
        "#)"
      ],
      "id": "1cec8fbc",
      "execution_count": null,
      "outputs": []
    },
    {
      "cell_type": "markdown",
      "metadata": {},
      "source": [
        "Plotting predictions during the entire period:\n"
      ],
      "id": "bfde407e"
    },
    {
      "cell_type": "code",
      "metadata": {},
      "source": [
        "from pandas import concat\n",
        "\n",
        "df_pred = concat([train_set, test_set])\n",
        "df_pred"
      ],
      "id": "7eefb136",
      "execution_count": null,
      "outputs": []
    },
    {
      "cell_type": "code",
      "metadata": {},
      "source": [
        "px.line(df_pred, y=[\"W-L%\", \"Predicted\"], height=350,\n",
        "    title=\"Baseball Team (NYY) Performance vs ARMA Predictions\",\n",
        "    labels={\"value\":\"\"}\n",
        ")"
      ],
      "id": "0badb071",
      "execution_count": null,
      "outputs": []
    },
    {
      "cell_type": "markdown",
      "metadata": {},
      "source": [
        "We see the model quickly stabilizes after two years into the test period, corresponding with the number of lagging periods chosen.\n",
        "\n",
        "\n",
        "Experimenting with different `order` parameter values may yield different results."
      ],
      "id": "3308235c"
    }
  ],
  "metadata": {
    "kernelspec": {
      "name": "python3",
      "language": "python",
      "display_name": "Python 3 (ipykernel)",
      "path": "/opt/anaconda3/share/jupyter/kernels/python3"
    }
  },
  "nbformat": 4,
  "nbformat_minor": 5
}